Vectors
1) Physics: Vector: arrow pointing spaces, direction+length, 2-3dimen., can set everywhere

2) CS: 2 or more dimen. lists(rows and colums)

3) Math: can be anything-1) and 2), O: addition, multiply
        sum of two vectors=from T of 1st and end at H of 2nd
                          =CS-way also O used for addition, + same positions
        multiply= streching by copying in a specific proport.
                = CS- way: multiply the constant to each factor

- x-y axis: tail starts from 0(Origin) <-> Physics
            CS-way can be used-> express vectors'form
- 3dimen: CS-way has 3rows

- Scaling: stretching/squishing/reversing the direct.
  Scalars: 2, 1/3, -1.8.. etc.






            
